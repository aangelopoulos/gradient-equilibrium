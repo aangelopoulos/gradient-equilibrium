{
 "cells": [
  {
   "cell_type": "code",
   "execution_count": 12,
   "metadata": {},
   "outputs": [],
   "source": [
    "import os\n",
    "import numpy as np\n",
    "import pandas as pd\n",
    "from sklearn.model_selection import train_test_split\n",
    "from sklearn.impute import SimpleImputer\n",
    "from sklearn.preprocessing import OneHotEncoder, StandardScaler\n",
    "from sklearn.compose import ColumnTransformer\n",
    "from sklearn.pipeline import Pipeline\n",
    "from sklearn.ensemble import HistGradientBoostingClassifier\n",
    "from sklearn.linear_model import LogisticRegression\n",
    "from sklearn.utils import check_array\n",
    "from tqdm import tqdm\n",
    "import pdb\n",
    "\n",
    "# Get the parent directory of this file\n",
    "current_directory = os.path.dirname(os.path.abspath(__name__))\n",
    "\n",
    "# Get the data directory\n",
    "data_directory = os.path.join(current_directory, 'data')\n",
    "\n",
    "# Get the CSV files\n",
    "csv_files = [f for f in os.listdir(data_directory) if f.endswith('.csv')]\n",
    "\n",
    "# Iterate over each CSV file and merge them by subject_id\n",
    "combined_data = pd.DataFrame()\n",
    "for file in csv_files:\n",
    "    file_path = os.path.join(data_directory, file)\n",
    "    data = pd.read_csv(file_path)\n",
    "    combined_data = pd.concat([combined_data, data], ignore_index=True)"
   ]
  },
  {
   "cell_type": "code",
   "execution_count": 13,
   "metadata": {},
   "outputs": [
    {
     "data": {
      "text/plain": [
       "Index(['subject_id', 'gender', 'anchor_age', 'anchor_year',\n",
       "       'anchor_year_group', 'dod', 'hadm_id', 'seq_num', 'chartdate',\n",
       "       'icd_code', 'icd_version', 'admittime', 'dischtime', 'deathtime',\n",
       "       'admission_type', 'admit_provider_id', 'admission_location',\n",
       "       'discharge_location', 'insurance', 'language', 'marital_status', 'race',\n",
       "       'edregtime', 'edouttime', 'hospital_expire_flag'],\n",
       "      dtype='object')"
      ]
     },
     "execution_count": 13,
     "metadata": {},
     "output_type": "execute_result"
    }
   ],
   "source": [
    "combined_data.columns"
   ]
  },
  {
   "cell_type": "code",
   "execution_count": 20,
   "metadata": {},
   "outputs": [],
   "source": [
    "combined_data.admittime = pd.to_datetime(combined_data.admittime)\n",
    "combined_data.dischtime = pd.to_datetime(combined_data.dischtime)\n",
    "combined_data.deathtime = pd.to_datetime(combined_data.deathtime)\n",
    "\n",
    "# Convert to days\n",
    "combined_data['length_of_stay'] = (combined_data.dischtime - combined_data.admittime).dt.days\n",
    "combined_data.deathtime = (combined_data.deathtime - combined_data.admittime.min()) / np.timedelta64(1, 'D')\n",
    "combined_data.dischtime = (combined_data.dischtime - combined_data.admittime.min()) / np.timedelta64(1, 'D')\n",
    "combined_data.admittime = (combined_data.admittime - combined_data.admittime.min()) / np.timedelta64(1, 'D')"
   ]
  },
  {
   "cell_type": "code",
   "execution_count": 21,
   "metadata": {},
   "outputs": [
    {
     "data": {
      "text/plain": [
       "5392      0.000000\n",
       "5420    232.640972\n",
       "5453    278.990972\n",
       "5331    581.354861\n",
       "5491    890.170139\n",
       "           ...    \n",
       "5323           NaN\n",
       "5324           NaN\n",
       "5325           NaN\n",
       "5326           NaN\n",
       "5327           NaN\n",
       "Name: admittime, Length: 5603, dtype: float64"
      ]
     },
     "execution_count": 21,
     "metadata": {},
     "output_type": "execute_result"
    }
   ],
   "source": [
    "combined_data.admittime"
   ]
  },
  {
   "cell_type": "code",
   "execution_count": 22,
   "metadata": {},
   "outputs": [],
   "source": [
    "combined_data.sort_values(by='admittime', inplace=True)"
   ]
  },
  {
   "cell_type": "code",
   "execution_count": 87,
   "metadata": {},
   "outputs": [],
   "source": [
    "data = combined_data[['admittime', 'race', 'marital_status', 'insurance', 'language','length_of_stay']]\n",
    "# Cut rows with nan\n",
    "data = data.dropna()\n",
    "data = data[data.race.isin(['WHITE', 'BLACK/AFRICAN AMERICAN', 'HISPANIC OR LATINO'])]"
   ]
  },
  {
   "cell_type": "code",
   "execution_count": 88,
   "metadata": {},
   "outputs": [
    {
     "data": {
      "text/plain": [
       "array(['WHITE', 'BLACK/AFRICAN AMERICAN', 'HISPANIC OR LATINO'],\n",
       "      dtype=object)"
      ]
     },
     "execution_count": 88,
     "metadata": {},
     "output_type": "execute_result"
    }
   ],
   "source": [
    "data.race.unique()"
   ]
  },
  {
   "cell_type": "code",
   "execution_count": 94,
   "metadata": {},
   "outputs": [
    {
     "name": "stdout",
     "output_type": "stream",
     "text": [
      "Index(['race', 'marital_status', 'insurance', 'language'], dtype='object')\n",
      "Index(['race', 'marital_status', 'insurance', 'language'], dtype='object')\n"
     ]
    },
    {
     "name": "stderr",
     "output_type": "stream",
     "text": [
      "  0%|          | 0/10 [00:00<?, ?it/s]"
     ]
    },
    {
     "name": "stderr",
     "output_type": "stream",
     "text": [
      "100%|██████████| 10/10 [00:23<00:00,  2.33s/it]"
     ]
    },
    {
     "name": "stdout",
     "output_type": "stream",
     "text": [
      "(217, 5) (217,) (217,)\n"
     ]
    },
    {
     "name": "stderr",
     "output_type": "stream",
     "text": [
      "\n"
     ]
    }
   ],
   "source": [
    "classifier = \"gradient_boosting\"\n",
    "if classifier == \"gradient_boosting\":\n",
    "    classifier_function = HistGradientBoostingClassifier(max_depth=5)\n",
    "elif classifier == \"logistic_regression\":\n",
    "    classifier_function = LogisticRegression(max_iter=10)\n",
    "else:\n",
    "    raise ValueError(f\"Invalid classifier: {classifier}\")\n",
    "\n",
    "# Load the data\n",
    "#data = pd.read_csv('./raw_data/application_train.csv')\n",
    "\n",
    "columns = data.columns\n",
    "\n",
    "# Separate features and target\n",
    "X_test = data.drop('length_of_stay', axis=1)\n",
    "y_test = data['length_of_stay']\n",
    "\n",
    "# Identify numeric and categorical columns\n",
    "numeric_features = X_test.select_dtypes(include=['int64', 'float64']).columns\n",
    "categorical_features = X_test.select_dtypes(include=['object']).columns\n",
    "\n",
    "# Fit the encoder to all possible categories\n",
    "encoder = OneHotEncoder(handle_unknown='ignore')\n",
    "encoder.fit(X_test[categorical_features])\n",
    "print(categorical_features)\n",
    "\n",
    "# Create transformers for numeric and categorical data\n",
    "numeric_transformer = Pipeline(steps=[\n",
    "    ('imputer', SimpleImputer(strategy='median')),\n",
    "    ('scaler', StandardScaler())])\n",
    "\n",
    "categorical_transformer = Pipeline(steps=[\n",
    "    ('imputer', SimpleImputer(strategy='constant', fill_value='missing')),\n",
    "    ('onehot', encoder)])\n",
    "\n",
    "# Combine transformers into a preprocessor with ColumnTransformer\n",
    "preprocessor = ColumnTransformer(\n",
    "    transformers=[\n",
    "        ('num', numeric_transformer, numeric_features),\n",
    "        ('cat', categorical_transformer, categorical_features)],\n",
    "        remainder='passthrough')\n",
    "\n",
    "# Choose classifier\n",
    "\n",
    "# Create a pipeline with preprocessor and a classifier\n",
    "model = Pipeline(steps=[\n",
    "    ('preprocessor', preprocessor),\n",
    "    ('classifier', classifier_function)])\n",
    "\n",
    "# Split data into train and test sets\n",
    "#X_train, X_test, y_train, y_test = train_test_split(X, y, test_size=0.25, random_state=42)\n",
    "\n",
    "# Fine-tune the model online using a growing dataset\n",
    "y_predict_proba = []\n",
    "idxs = [ len(X_test) // 12 * i for i in range(12) ]\n",
    "idxs = idxs[1:]\n",
    "idxs[-1] = len(X_test)\n",
    "print(categorical_features)\n",
    "\n",
    "for i in tqdm(range(10)):\n",
    "    idx = idxs[i]\n",
    "    _X_train = X_test[:idx]\n",
    "    _y_train = y_test[:idx]\n",
    "    \n",
    "    model.fit(_X_train, _y_train)\n",
    "    y_predict_proba.append(model.predict_proba(X_test[idx:idxs[i+1]])[:, 1])\n",
    "    \n",
    "y_predict_proba = np.concatenate(y_predict_proba)\n",
    "# Fill in zeros for the first batch of predictions\n",
    "y_predict_proba = np.concatenate([np.zeros(len(X_test) - len(y_predict_proba)), y_predict_proba])\n",
    "\n",
    "# Save the X_test, y_test, y_predict_proba as a dataframe, with the original columns plus 'target' and 'prediction' columns\n",
    "os.makedirs('./.cache', exist_ok=True)\n",
    "print(X_test.shape, y_test.shape, y_predict_proba.shape)\n",
    "df = pd.DataFrame(np.column_stack([X_test, y_test, y_predict_proba]), columns=list(X_test.columns) + ['target', 'prediction'])\n",
    "df.to_pickle(f\"./.cache/{classifier}.pkl\")"
   ]
  }
 ],
 "metadata": {
  "kernelspec": {
   "display_name": "base",
   "language": "python",
   "name": "python3"
  },
  "language_info": {
   "codemirror_mode": {
    "name": "ipython",
    "version": 3
   },
   "file_extension": ".py",
   "mimetype": "text/x-python",
   "name": "python",
   "nbconvert_exporter": "python",
   "pygments_lexer": "ipython3",
   "version": "3.9.19"
  }
 },
 "nbformat": 4,
 "nbformat_minor": 2
}
