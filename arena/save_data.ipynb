{
 "cells": [
  {
   "cell_type": "code",
   "execution_count": 2,
   "metadata": {
    "id": "C5H_wlbqGwCJ"
   },
   "outputs": [],
   "source": [
    "from collections import defaultdict\n",
    "import json, math, gdown\n",
    "import numpy as np\n",
    "import pandas as pd\n",
    "import plotly.express as px\n",
    "from tqdm import tqdm\n",
    "import os\n",
    "import requests\n",
    "pd.options.display.float_format = '{:.2f}'.format"
   ]
  },
  {
   "cell_type": "code",
   "execution_count": null,
   "metadata": {
    "id": "EZvUIOhVZD27"
   },
   "outputs": [],
   "source": [
    "# Download the data using HTTP request\n",
    "url = \"https://storage.googleapis.com/arena_external_data/public/clean_battle_20240826_public.json\"\n",
    "response = requests.get(url)\n",
    "\n",
    "os.makedirs('./raw_data', exist_ok=True)\n",
    "with open('./raw_data/public_data.json', 'wb') as file:\n",
    "   file.write(response.content)\n",
    "\n",
    "# load the JSON data from the local file\n",
    "with open('./raw_data/public_data.json', 'r') as file:\n",
    "    battles = pd.read_json(file).sort_values(ascending=True, by=[\"tstamp\"])"
   ]
  },
  {
   "cell_type": "code",
   "execution_count": 4,
   "metadata": {
    "colab": {
     "base_uri": "https://localhost:8080/"
    },
    "id": "j2QC3dU2A8v2",
    "outputId": "431ed3b6-5a05-4d8f-89b7-cc8d8cf2c5fa"
   },
   "outputs": [],
   "source": [
    "# we use anony battles only for leaderboard\n",
    "battles = battles[battles[\"anony\"] == True]\n",
    "# we de-duplicate top 0.1% redudant prompts\n",
    "battles = battles[battles[\"dedup_tag\"].apply(lambda x: x.get(\"sampled\", False))]"
   ]
  },
  {
   "cell_type": "code",
   "execution_count": 5,
   "metadata": {},
   "outputs": [],
   "source": [
    "# Convert the unix tstamp column to datetime\n",
    "battles['datetime'] = pd.to_datetime(battles['tstamp'], unit='s')"
   ]
  },
  {
   "cell_type": "code",
   "execution_count": 6,
   "metadata": {},
   "outputs": [
    {
     "name": "stdout",
     "output_type": "stream",
     "text": [
      "Number of unique models: 136\n",
      "First few models: ['RWKV-4-Raven-14B' 'alpaca-13b' 'athene-70b-0725'\n",
      " 'bard-jan-24-gemini-pro' 'chatglm-6b']\n",
      "model_to_index sample: {'RWKV-4-Raven-14B': 0, 'alpaca-13b': 1, 'athene-70b-0725': 2, 'bard-jan-24-gemini-pro': 3, 'chatglm-6b': 4}\n"
     ]
    },
    {
     "name": "stderr",
     "output_type": "stream",
     "text": [
      "100%|██████████| 1151107/1151107 [00:10<00:00, 109450.95it/s]\n"
     ]
    }
   ],
   "source": [
    "battles = battles[~battles[\"winner\"].isin([\"tie\", \"tie (bothbad)\"])]\n",
    "\n",
    "# Sort the battles DataFrame by datetime\n",
    "battles_sorted = battles.sort_values('datetime').reset_index(drop=True)\n",
    "\n",
    "# Get unique models and create an ordering\n",
    "models = pd.unique(battles_sorted[['model_a', 'model_b']].values.ravel('K'))\n",
    "models.sort()  # Sort for consistency\n",
    "\n",
    "# Create a dictionary to map model names to indices\n",
    "model_to_index = {model: index for index, model in enumerate(models)}\n",
    "\n",
    "print(\"Number of unique models:\", len(models))\n",
    "print(\"First few models:\", models[:5])\n",
    "print(\"model_to_index sample:\", dict(list(model_to_index.items())[:5]))\n",
    "\n",
    "# Initialize X matrix\n",
    "X = np.zeros((len(battles_sorted), len(models)))\n",
    "\n",
    "# Populate X matrix\n",
    "for i, row in tqdm(enumerate(battles_sorted.itertuples()), total=len(battles_sorted)):\n",
    "    model_a = row.model_a\n",
    "    model_b = row.model_b\n",
    "    \n",
    "    if model_a not in model_to_index or model_b not in model_to_index:\n",
    "        print(f\"Error at row {i}: model_a = {model_a}, model_b = {model_b}\")\n",
    "        continue\n",
    "    \n",
    "    X[i, model_to_index[model_a]] = 1\n",
    "    X[i, model_to_index[model_b]] = -1\n",
    "    \n",
    "# Create Y vector\n",
    "Y = (battles_sorted['winner'] == 'model_a').astype(int).values\n",
    "\n",
    "# Datetime vector\n",
    "datetimes = battles_sorted['datetime'].values"
   ]
  },
  {
   "cell_type": "code",
   "execution_count": 8,
   "metadata": {},
   "outputs": [
    {
     "data": {
      "text/plain": [
       "array(['2023-04-24T15:53:11.132200003', '2023-04-24T15:55:08.935100079',\n",
       "       '2023-04-24T15:56:25.192199945', ...,\n",
       "       '2024-08-27T07:05:13.576999903', '2024-08-27T07:05:36.799700022',\n",
       "       '2024-08-27T07:05:42.631700039'], dtype='datetime64[ns]')"
      ]
     },
     "execution_count": 8,
     "metadata": {},
     "output_type": "execute_result"
    }
   ],
   "source": [
    "datetimes"
   ]
  },
  {
   "cell_type": "code",
   "execution_count": 9,
   "metadata": {},
   "outputs": [],
   "source": [
    "# Save models, X, Y, and datetimes to a file\n",
    "os.makedirs('./.cache', exist_ok=True)\n",
    "np.savez('./.cache/models_X_Y.npz', models=models, X=X, Y=Y, datetimes=datetimes)"
   ]
  }
 ],
 "metadata": {
  "accelerator": "TPU",
  "colab": {
   "gpuType": "V28",
   "provenance": []
  },
  "kernelspec": {
   "display_name": "Python 3",
   "name": "python3"
  },
  "language_info": {
   "codemirror_mode": {
    "name": "ipython",
    "version": 3
   },
   "file_extension": ".py",
   "mimetype": "text/x-python",
   "name": "python",
   "nbconvert_exporter": "python",
   "pygments_lexer": "ipython3",
   "version": "3.12.4"
  }
 },
 "nbformat": 4,
 "nbformat_minor": 0
}
